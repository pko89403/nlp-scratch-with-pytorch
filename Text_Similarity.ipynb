{
  "nbformat": 4,
  "nbformat_minor": 0,
  "metadata": {
    "colab": {
      "name": "Text_Similarity.ipynb",
      "provenance": []
    },
    "kernelspec": {
      "name": "python3",
      "display_name": "Python 3"
    },
    "language_info": {
      "name": "python"
    }
  },
  "cells": [
    {
      "cell_type": "markdown",
      "metadata": {
        "id": "Qh5LjM0YY0OS"
      },
      "source": [
        "#텍스트 유사도\n",
        "텍스트가 얼마나 유사한지 표현하는 방식 중 하나다.   \n",
        "다양한 측정 방법이 있고 방법에 따라 유사도가 크게 달라질 수 있으므로 의도하고자 하는 방향에 맞는 유사도 측정 방법을 고르는 것이 중요하다"
      ]
    },
    {
      "cell_type": "code",
      "metadata": {
        "id": "A_a8hQnfYy4R"
      },
      "source": [
        "from sklearn.feature_extraction.text import TfidfVectorizer\n",
        "import pprint"
      ],
      "execution_count": 4,
      "outputs": []
    },
    {
      "cell_type": "markdown",
      "metadata": {
        "id": "QPRF-2sFZmrp"
      },
      "source": [
        "TF-IDF 를 통해 벡터화한다."
      ]
    },
    {
      "cell_type": "code",
      "metadata": {
        "id": "BoS1TcE4ZA1z"
      },
      "source": [
        "sent = (\"휴일 인 오늘 도 서쪽 을 중심 으로 폭염이 이어졌는데요, 내일 은 반가운 비 소식이 있습니다.\", \n",
        "        \"폭염 을 피해서 휴일 에 놀러왔다가 갑작스런 비 로 인해 망연자실 하고 있습니다.\")\n",
        "\n",
        "tfidf_vectorizer = TfidfVectorizer()\n",
        "tfidf_matrix = tfidf_vectorizer.fit_transform(sent)\n",
        "\n",
        "idf = tfidf_vectorizer.idf_"
      ],
      "execution_count": 2,
      "outputs": []
    },
    {
      "cell_type": "code",
      "metadata": {
        "colab": {
          "base_uri": "https://localhost:8080/"
        },
        "id": "w08UwwGFZ5an",
        "outputId": "e71b0c94-b35f-4520-e414-0135bc98579f"
      },
      "source": [
        "pprint.pprint(dict(zip(tfidf_vectorizer.get_feature_names(), idf)))"
      ],
      "execution_count": 5,
      "outputs": [
        {
          "output_type": "stream",
          "text": [
            "{'갑작스런': 1.4054651081081644,\n",
            " '내일': 1.4054651081081644,\n",
            " '놀러왔다가': 1.4054651081081644,\n",
            " '망연자실': 1.4054651081081644,\n",
            " '반가운': 1.4054651081081644,\n",
            " '서쪽': 1.4054651081081644,\n",
            " '소식이': 1.4054651081081644,\n",
            " '오늘': 1.4054651081081644,\n",
            " '으로': 1.4054651081081644,\n",
            " '이어졌는데요': 1.4054651081081644,\n",
            " '인해': 1.4054651081081644,\n",
            " '있습니다': 1.0,\n",
            " '중심': 1.4054651081081644,\n",
            " '폭염': 1.4054651081081644,\n",
            " '폭염이': 1.4054651081081644,\n",
            " '피해서': 1.4054651081081644,\n",
            " '하고': 1.4054651081081644,\n",
            " '휴일': 1.0}\n"
          ],
          "name": "stdout"
        }
      ]
    },
    {
      "cell_type": "markdown",
      "metadata": {
        "id": "x89-svGVafUR"
      },
      "source": [
        "코사인 유사도 측정으로 첫 번째와 두 번째 문장 비교"
      ]
    },
    {
      "cell_type": "code",
      "metadata": {
        "colab": {
          "base_uri": "https://localhost:8080/"
        },
        "id": "uSq__vYrZ-XV",
        "outputId": "dc1899a2-8763-4e14-c76d-a6b36cae7ce2"
      },
      "source": [
        "from sklearn.metrics.pairwise import cosine_similarity\n",
        "\n",
        "cosine_similarity(tfidf_matrix[0:1], tfidf_matrix[1:2])"
      ],
      "execution_count": 6,
      "outputs": [
        {
          "output_type": "execute_result",
          "data": {
            "text/plain": [
              "array([[0.11304078]])"
            ]
          },
          "metadata": {
            "tags": []
          },
          "execution_count": 6
        }
      ]
    },
    {
      "cell_type": "markdown",
      "metadata": {
        "id": "UGyLJRGea0BO"
      },
      "source": [
        "유클리디언 유사도 측정으로 첫 번쨰와 두 번쨰 문장 비교"
      ]
    },
    {
      "cell_type": "code",
      "metadata": {
        "colab": {
          "base_uri": "https://localhost:8080/"
        },
        "id": "a5-sD0R6adfJ",
        "outputId": "224ecf25-0b41-4216-b54b-f53fdaa0c42d"
      },
      "source": [
        "from sklearn.metrics.pairwise import euclidean_distances\n",
        "\n",
        "euclidean_distances(tfidf_matrix[0:1], tfidf_matrix[1:2])"
      ],
      "execution_count": 7,
      "outputs": [
        {
          "output_type": "execute_result",
          "data": {
            "text/plain": [
              "array([[1.33188529]])"
            ]
          },
          "metadata": {
            "tags": []
          },
          "execution_count": 7
        }
      ]
    },
    {
      "cell_type": "markdown",
      "metadata": {
        "id": "8fDOSsGsbxls"
      },
      "source": [
        "L1 정규화를 하고 다시 유클리디언 유사도를 측정"
      ]
    },
    {
      "cell_type": "code",
      "metadata": {
        "colab": {
          "base_uri": "https://localhost:8080/"
        },
        "id": "ChQWST4Faw9q",
        "outputId": "2327fe51-4ba3-4933-ea70-e89eab9b84c7"
      },
      "source": [
        "import numpy as np \n",
        "\n",
        "def l1_normalize(v):\n",
        "  norm = np.sum(v)\n",
        "  return v / norm \n",
        "\n",
        "tfidf_norm_l1 = l1_normalize(tfidf_matrix)\n",
        "euclidean_distances(tfidf_norm_l1[0:1], tfidf_norm_l1[1:2])"
      ],
      "execution_count": 8,
      "outputs": [
        {
          "output_type": "execute_result",
          "data": {
            "text/plain": [
              "array([[0.21243357]])"
            ]
          },
          "metadata": {
            "tags": []
          },
          "execution_count": 8
        }
      ]
    },
    {
      "cell_type": "markdown",
      "metadata": {
        "id": "nG6Jm7TfcSzl"
      },
      "source": [
        "맨하탄 유사도 측정으로 첫 번째와 두 번째 문장 비교"
      ]
    },
    {
      "cell_type": "code",
      "metadata": {
        "colab": {
          "base_uri": "https://localhost:8080/"
        },
        "id": "ChEuD2mObwC4",
        "outputId": "49a1c65e-865c-4623-f2a0-001ef3d62859"
      },
      "source": [
        "from sklearn.metrics.pairwise import manhattan_distances\n",
        "\n",
        "manhattan_distances(tfidf_norm_l1[0:1], tfidf_norm_l1[1:2])"
      ],
      "execution_count": 9,
      "outputs": [
        {
          "output_type": "execute_result",
          "data": {
            "text/plain": [
              "array([[0.85654185]])"
            ]
          },
          "metadata": {
            "tags": []
          },
          "execution_count": 9
        }
      ]
    },
    {
      "cell_type": "code",
      "metadata": {
        "id": "HLLAfLzucD9r"
      },
      "source": [
        ""
      ],
      "execution_count": null,
      "outputs": []
    }
  ]
}